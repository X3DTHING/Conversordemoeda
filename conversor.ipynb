{
  "nbformat": 4,
  "nbformat_minor": 0,
  "metadata": {
    "colab": {
      "provenance": [],
      "authorship_tag": "ABX9TyN6H/lrvGqk1d+NRjiat4pV",
      "include_colab_link": true
    },
    "kernelspec": {
      "name": "python3",
      "display_name": "Python 3"
    },
    "language_info": {
      "name": "python"
    }
  },
  "cells": [
    {
      "cell_type": "markdown",
      "metadata": {
        "id": "view-in-github",
        "colab_type": "text"
      },
      "source": [
        "<a href=\"https://colab.research.google.com/github/X3DTHING/Conversordemoeda/blob/main/conversor.ipynb\" target=\"_parent\"><img src=\"https://colab.research.google.com/assets/colab-badge.svg\" alt=\"Open In Colab\"/></a>"
      ]
    },
    {
      "cell_type": "code",
      "execution_count": null,
      "metadata": {
        "colab": {
          "base_uri": "https://localhost:8080/"
        },
        "id": "zvKi3HeXSts5",
        "outputId": "434a647e-00b0-4a3e-ea15-b59c74fa63a2"
      },
      "outputs": [
        {
          "output_type": "stream",
          "name": "stdout",
          "text": [
            "Escolha uma opção:\n",
            "1. Converter de USD para BRL\n",
            "2. Converter de BRL para USD\n"
          ]
        }
      ],
      "source": [
        "def converter_usd_para_brl(valor_usd):\n",
        "    taxa_cambio = 5.03  # 1 USD equivale a 5,03 BRL\n",
        "    valor_brl = valor_usd * taxa_cambio\n",
        "    return valor_brl\n",
        "\n",
        "def converter_brl_para_usd(valor_brl):\n",
        "    taxa_cambio = 0.20  # 1 BRL equivale a 0,20 USD\n",
        "    valor_usd = valor_brl * taxa_cambio\n",
        "    return valor_usd\n",
        "\n",
        "# Função principal para interação com o usuário\n",
        "def main():\n",
        "    print(\"Escolha uma opção:\")\n",
        "    print(\"1. Converter de USD para BRL\")\n",
        "    print(\"2. Converter de BRL para USD\")\n",
        "    opcao = input(\"Digite o número da opção desejada: \")\n",
        "\n",
        "    if opcao == \"1\":\n",
        "        valor_usd = float(input(\"Digite o valor em USD: \"))\n",
        "        valor_brl = converter_usd_para_brl(valor_usd)\n",
        "        print(f\"{valor_usd} USD equivalem a {valor_brl:.2f} BRL\")\n",
        "    elif opcao == \"2\":\n",
        "        valor_brl = float(input(\"Digite o valor em BRL: \"))\n",
        "        valor_usd = converter_brl_para_usd(valor_brl)\n",
        "        print(f\"{valor_brl} BRL equivalem a {valor_usd:.2f} USD\")\n",
        "    else:\n",
        "        print(\"Opção inválida. Por favor, digite 1 ou 2.\")\n",
        "\n",
        "if __name__ == \"__main__\":\n",
        "    main()\n"
      ]
    }
  ]
}